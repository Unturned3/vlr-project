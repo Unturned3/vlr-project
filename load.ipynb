{
 "cells": [
  {
   "cell_type": "code",
   "execution_count": 1,
   "id": "8937dd3f",
   "metadata": {},
   "outputs": [],
   "source": [
    "%load_ext autoreload\n",
    "%autoreload 2"
   ]
  },
  {
   "cell_type": "code",
   "execution_count": 2,
   "id": "42177f4b",
   "metadata": {},
   "outputs": [],
   "source": [
    "import torch\n",
    "import lightning as pl\n",
    "from lightning.pytorch.loggers import WandbLogger\n",
    "from random import randint\n",
    "from vit import ViT\n",
    "from vit_trainer import VitTrainer"
   ]
  },
  {
   "cell_type": "code",
   "execution_count": 3,
   "id": "41686df9",
   "metadata": {},
   "outputs": [],
   "source": [
    "# Load pre-trained VitTrainer\n",
    "\n",
    "vit_trainer = VitTrainer.load_from_checkpoint(\n",
    "    'logs/vlr-project/odgkbpzu/checkpoints/epoch=6-step=1750.ckpt'\n",
    ")"
   ]
  },
  {
   "cell_type": "code",
   "execution_count": null,
   "id": "e0d994bb",
   "metadata": {},
   "outputs": [],
   "source": []
  }
 ],
 "metadata": {
  "kernelspec": {
   "display_name": "Python 3",
   "language": "python",
   "name": "python3"
  },
  "language_info": {
   "codemirror_mode": {
    "name": "ipython",
    "version": 3
   },
   "file_extension": ".py",
   "mimetype": "text/x-python",
   "name": "python",
   "nbconvert_exporter": "python",
   "pygments_lexer": "ipython3",
   "version": "3.13.3"
  }
 },
 "nbformat": 4,
 "nbformat_minor": 5
}
