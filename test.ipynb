{
 "cells": [
  {
   "cell_type": "code",
   "execution_count": 1,
   "id": "4df7bfcc",
   "metadata": {},
   "outputs": [],
   "source": [
    "%load_ext autoreload\n",
    "%autoreload 2"
   ]
  },
  {
   "cell_type": "code",
   "execution_count": 12,
   "id": "da26bc8b",
   "metadata": {},
   "outputs": [],
   "source": [
    "import torch\n",
    "from vit import ViT"
   ]
  },
  {
   "cell_type": "code",
   "execution_count": 13,
   "id": "d4baad8e",
   "metadata": {},
   "outputs": [],
   "source": [
    "v = ViT().to('cuda')"
   ]
  },
  {
   "cell_type": "code",
   "execution_count": 14,
   "id": "abfc6d81",
   "metadata": {},
   "outputs": [],
   "source": [
    "x = torch.rand(32, 3, 256, 256).to('cuda')"
   ]
  },
  {
   "cell_type": "code",
   "execution_count": 15,
   "id": "1fe6f971",
   "metadata": {},
   "outputs": [],
   "source": [
    "y = v(x)"
   ]
  }
 ],
 "metadata": {
  "kernelspec": {
   "display_name": "Python 3",
   "language": "python",
   "name": "python3"
  },
  "language_info": {
   "codemirror_mode": {
    "name": "ipython",
    "version": 3
   },
   "file_extension": ".py",
   "mimetype": "text/x-python",
   "name": "python",
   "nbconvert_exporter": "python",
   "pygments_lexer": "ipython3",
   "version": "3.13.3"
  }
 },
 "nbformat": 4,
 "nbformat_minor": 5
}
