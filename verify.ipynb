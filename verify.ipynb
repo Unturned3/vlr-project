{
 "cells": [
  {
   "cell_type": "code",
   "execution_count": 1,
   "id": "8937dd3f",
   "metadata": {},
   "outputs": [],
   "source": [
    "%load_ext autoreload\n",
    "%autoreload 2"
   ]
  },
  {
   "cell_type": "code",
   "execution_count": 2,
   "id": "42177f4b",
   "metadata": {},
   "outputs": [],
   "source": [
    "import torch\n",
    "from einops import rearrange\n",
    "from random import randint\n",
    "from dataset import ImageDataset\n",
    "from vit import ViT\n",
    "from vit_trainer import VitTrainer\n",
    "\n",
    "import matplotlib.pyplot as plt\n",
    "import numpy as np\n",
    "\n",
    "from utils import permute_image, topk_acc, greedy_refine_pred_perm"
   ]
  },
  {
   "cell_type": "code",
   "execution_count": 3,
   "id": "fce4a5e6",
   "metadata": {},
   "outputs": [
    {
     "name": "stdout",
     "output_type": "stream",
     "text": [
      "Using device: cpu\n"
     ]
    }
   ],
   "source": [
    "device = torch.device('cuda' if torch.cuda.is_available() else 'cpu')\n",
    "print(f'Using device: {device}')"
   ]
  },
  {
   "cell_type": "code",
   "execution_count": 5,
   "id": "cd4ba6f7",
   "metadata": {},
   "outputs": [],
   "source": [
    "# vit = ViT(patch_size=16, out_dim=1)\n",
    "\n",
    "vit_trainer = VitTrainer.load_from_checkpoint('logs/kf2x907t-484-ep78.ckpt')\n",
    "cfg = vit_trainer.cfg\n",
    "\n",
    "vit = vit_trainer.model.to(device)\n",
    "vit = vit.eval()\n",
    "dataset = ImageDataset(cfg.data_dir, cfg.image_paths_pkl)"
   ]
  },
  {
   "cell_type": "code",
   "execution_count": 6,
   "id": "1872b047",
   "metadata": {},
   "outputs": [],
   "source": [
    "x = torch.rand(3, 32, 32)"
   ]
  },
  {
   "cell_type": "code",
   "execution_count": 7,
   "id": "6d994d5a",
   "metadata": {},
   "outputs": [
    {
     "data": {
      "text/plain": [
       "tensor([[[ -2.7136,  -5.9670,  -4.8924,  ...,  12.1546,  14.0961,  13.5670],\n",
       "         [ -4.0672, -10.7351,  -8.9875,  ...,   9.5684,   9.4819,  12.5198],\n",
       "         [ -4.0673,  -6.9535,  -7.6806,  ...,  11.8375,  13.6903,  13.4855],\n",
       "         [ -6.0055,  -7.8543,  -5.1809,  ...,   3.3908,   5.6768,   5.5465]]],\n",
       "       grad_fn=<ViewBackward0>)"
      ]
     },
     "execution_count": 7,
     "metadata": {},
     "output_type": "execute_result"
    }
   ],
   "source": [
    "y = vit(x.unsqueeze(0))\n",
    "y"
   ]
  },
  {
   "cell_type": "code",
   "execution_count": 23,
   "id": "3163865a",
   "metadata": {},
   "outputs": [],
   "source": [
    "x_perm, _ = permute_image(x, patch_size=16, perm=torch.tensor([3, 2, 1, 0]))"
   ]
  },
  {
   "cell_type": "code",
   "execution_count": 24,
   "id": "441a729b",
   "metadata": {},
   "outputs": [
    {
     "data": {
      "text/plain": [
       "tensor([[[ 0.2038],\n",
       "         [-1.0344],\n",
       "         [ 1.0886],\n",
       "         [ 0.7427]]], grad_fn=<ViewBackward0>)"
      ]
     },
     "execution_count": 24,
     "metadata": {},
     "output_type": "execute_result"
    }
   ],
   "source": [
    "y_perm = vit(x_perm.unsqueeze(0))\n",
    "y_perm"
   ]
  },
  {
   "cell_type": "code",
   "execution_count": null,
   "id": "41686df9",
   "metadata": {},
   "outputs": [],
   "source": []
  }
 ],
 "metadata": {
  "kernelspec": {
   "display_name": "Python 3",
   "language": "python",
   "name": "python3"
  },
  "language_info": {
   "codemirror_mode": {
    "name": "ipython",
    "version": 3
   },
   "file_extension": ".py",
   "mimetype": "text/x-python",
   "name": "python",
   "nbconvert_exporter": "python",
   "pygments_lexer": "ipython3",
   "version": "3.13.3"
  }
 },
 "nbformat": 4,
 "nbformat_minor": 5
}
